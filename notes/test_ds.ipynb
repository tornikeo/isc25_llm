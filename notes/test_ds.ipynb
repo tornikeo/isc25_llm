{
 "cells": [
  {
   "cell_type": "code",
   "execution_count": 1,
   "id": "87f8578c",
   "metadata": {},
   "outputs": [
    {
     "name": "stderr",
     "output_type": "stream",
     "text": [
      "/home/tornikeo/micromamba/envs/pb/lib/python3.10/site-packages/tqdm/auto.py:21: TqdmWarning: IProgress not found. Please update jupyter and ipywidgets. See https://ipywidgets.readthedocs.io/en/stable/user_install.html\n",
      "  from .autonotebook import tqdm as notebook_tqdm\n"
     ]
    }
   ],
   "source": [
    "import datasets"
   ]
  },
  {
   "cell_type": "code",
   "execution_count": 5,
   "id": "7c58e1bb",
   "metadata": {},
   "outputs": [],
   "source": [
    "ds = datasets.load_from_disk('./cosmos_qa')"
   ]
  },
  {
   "cell_type": "code",
   "execution_count": 6,
   "id": "6684e5b0",
   "metadata": {},
   "outputs": [
    {
     "data": {
      "text/plain": [
       "{'id': '3Q9SPIIRWJKVQ8244310E8TUS6YWAC##34V1S5K3GTZMDUBNBIGY93FLDOB690##A1S1K7134S2VUC##Blog_1044056##q1_a1##3XU9MCX6VQQG7YPLCSAFDPQNH4GR20',\n",
       " 'context': \"Good Old War and person L : I saw both of these bands Wednesday night , and they both blew me away . seriously . Good Old War is acoustic and makes me smile . I really can not help but be happy when I listen to them ; I think it 's the fact that they seemed so happy themselves when they played .\",\n",
       " 'question': 'In the future , will this person go to see other bands play ?',\n",
       " 'answer0': 'None of the above choices .',\n",
       " 'answer1': 'This person likes music and likes to see the show , they will see other bands play .',\n",
       " 'answer2': 'This person only likes Good Old War and Person L , no other bands .',\n",
       " 'answer3': 'Other Bands is not on tour and this person can not see them .',\n",
       " 'label': 1}"
      ]
     },
     "execution_count": 6,
     "metadata": {},
     "output_type": "execute_result"
    }
   ],
   "source": [
    "for sample in ds['train']:\n",
    "  sample\n",
    "  break\n",
    "sample"
   ]
  }
 ],
 "metadata": {
  "kernelspec": {
   "display_name": "Python 3",
   "language": "python",
   "name": "python3"
  },
  "language_info": {
   "codemirror_mode": {
    "name": "ipython",
    "version": 3
   },
   "file_extension": ".py",
   "mimetype": "text/x-python",
   "name": "python",
   "nbconvert_exporter": "python",
   "pygments_lexer": "ipython3",
   "version": "3.10.16"
  }
 },
 "nbformat": 4,
 "nbformat_minor": 5
}
